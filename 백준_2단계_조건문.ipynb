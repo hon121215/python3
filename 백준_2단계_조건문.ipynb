{
  "nbformat": 4,
  "nbformat_minor": 0,
  "metadata": {
    "colab": {
      "provenance": []
    },
    "kernelspec": {
      "name": "python3",
      "display_name": "Python 3"
    },
    "language_info": {
      "name": "python"
    }
  },
  "cells": [
    {
      "cell_type": "markdown",
      "source": [
        "1. 두 수 비교하기"
      ],
      "metadata": {
        "id": "i6hVC_1iJq8d"
      }
    },
    {
      "cell_type": "code",
      "source": [
        "A,B = map(int,input().split())\n",
        "if(A > B): print('>')\n",
        "if(A < B): print('<')\n",
        "if(A == B): print('==')"
      ],
      "metadata": {
        "id": "t_9nYGeQJsEe"
      },
      "execution_count": null,
      "outputs": []
    },
    {
      "cell_type": "markdown",
      "source": [
        "2. 시험 성적"
      ],
      "metadata": {
        "id": "Q10mKrBdJswb"
      }
    },
    {
      "cell_type": "code",
      "source": [
        "Result = int(input())\n",
        "if(Result >= 90): print(\"A\")\n",
        "elif(Result >= 80): print(\"B\")\n",
        "elif(Result >= 70): print(\"C\")\n",
        "elif(Result >= 60): print(\"D\")\n",
        "else: print(\"F\")"
      ],
      "metadata": {
        "id": "Uw09gh_mJuKK"
      },
      "execution_count": null,
      "outputs": []
    },
    {
      "cell_type": "markdown",
      "source": [
        "3. 윤년"
      ],
      "metadata": {
        "id": "NcozEkNRJuWm"
      }
    },
    {
      "cell_type": "code",
      "source": [
        "Year = int(input())\n",
        "if(Year%4 == 0 and Year%100 != 0 or Year%400 == 0): print(1)\n",
        "else: print(0)"
      ],
      "metadata": {
        "id": "5Q13PWVZJunW"
      },
      "execution_count": null,
      "outputs": []
    },
    {
      "cell_type": "markdown",
      "source": [
        "4. 사분면 고르기"
      ],
      "metadata": {
        "id": "LEtsxzk8JvGc"
      }
    },
    {
      "cell_type": "code",
      "source": [
        "A = int(input())\n",
        "B = int(input())\n",
        "\n",
        "if A > 0 and B > 0: print('1')\n",
        "elif A < 0 and B > 0: print('2')\n",
        "elif A < 0 and B < 0: print('3')\n",
        "else: print('4')\n",
        "# 문제에서 x와 y의 범위를 0을 포함에서 설정했다면 elif A > 0 and B < 0: print('4')"
      ],
      "metadata": {
        "id": "85LfkQNXJvSo"
      },
      "execution_count": null,
      "outputs": []
    },
    {
      "cell_type": "markdown",
      "source": [
        "5. 알람 시계"
      ],
      "metadata": {
        "id": "3nImZBCuJvko"
      }
    },
    {
      "cell_type": "code",
      "source": [
        "H,M = map(int,input().split())\n",
        "\n",
        "if M - 45 < 0 and H != 0:\n",
        "  print(H-1,M+15) # M + 15 가 나온 이유는 60 - 45 + M 이기 때문이다.\n",
        "elif M - 45 < 0 and H == 0:\n",
        "  print(23,M+15) # M + 15 가 나온 이유는 60 - 45 + M 이기 때문이다.\n",
        "elif M - 45 >= 0:\n",
        "  print(H,M-45)\n"
      ],
      "metadata": {
        "id": "qDSqLVKNJvyh"
      },
      "execution_count": null,
      "outputs": []
    },
    {
      "cell_type": "markdown",
      "source": [
        "6. 오븐 시계"
      ],
      "metadata": {
        "id": "0Yhb_zQeJv7_"
      }
    },
    {
      "cell_type": "code",
      "source": [
        "H,M = map(int,input().split())\n",
        "Time = int(input())\n",
        "\n",
        "H += Time // 60\n",
        "M += Time % 60\n",
        "\n",
        "if M >= 60:\n",
        "    H += 1\n",
        "    M -= 60\n",
        "if H >= 24:\n",
        "    H -= 24\n",
        "\n",
        "print(H,M)\n"
      ],
      "metadata": {
        "id": "mxoqmeGQJwLK"
      },
      "execution_count": null,
      "outputs": []
    },
    {
      "cell_type": "markdown",
      "source": [
        "7. 주사위 세개"
      ],
      "metadata": {
        "id": "7zBqj6iFJ7o1"
      }
    },
    {
      "cell_type": "code",
      "source": [
        "a,b,c = map(int,input().split())\n",
        "\n",
        "if a==b==c: print(10000+a*1000)\n",
        "\n",
        "elif a==b or a==c: print(1000+a*100)\n",
        "elif a==b or b==c: print(1000+b*100)\n",
        "\n",
        "elif c<a and b<a: print(a*100)\n",
        "elif c<b and a<b: print(b*100)\n",
        "elif a<c and b<c: print(c*100)"
      ],
      "metadata": {
        "id": "rsz3oWrIJ715"
      },
      "execution_count": null,
      "outputs": []
    }
  ]
}