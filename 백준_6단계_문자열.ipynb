{
  "nbformat": 4,
  "nbformat_minor": 0,
  "metadata": {
    "colab": {
      "provenance": []
    },
    "kernelspec": {
      "name": "python3",
      "display_name": "Python 3"
    },
    "language_info": {
      "name": "python"
    }
  },
  "cells": [
    {
      "cell_type": "markdown",
      "source": [
        "1. 아스키 코드"
      ],
      "metadata": {
        "id": "2F8alK9Pdqkw"
      }
    },
    {
      "cell_type": "code",
      "execution_count": null,
      "metadata": {
        "id": "hw5pA4AAdbLL"
      },
      "outputs": [],
      "source": [
        "a = input()\n",
        "asc = ord(\"{0}\".format(a))    #ord 는 문자열을 아스키코드로 변환해주는 함수이다.\n",
        "print(asc)"
      ]
    },
    {
      "cell_type": "markdown",
      "source": [
        "2. 숫자의 합\n",
        "\n",
        "\n",
        "\n",
        "*   첫번째 줄에는 두번째 줄에 입력할 숫자의 개수\n",
        "*   두번째 줄에는 첫번째 줄에 입력한 숫자의 개수만큼\n",
        "*   출력값 = 두번째 줄 숫자를 각각 더한 값.\n",
        "\n",
        "\n",
        "\n"
      ],
      "metadata": {
        "id": "9L_Fu72GgM8S"
      }
    },
    {
      "cell_type": "code",
      "source": [
        "N = int(input())  # 첫번째 줄\n",
        "num = int(input()) # 두번째 줄\n",
        "\n",
        "print(sum(map(int,str(num)))) # map 함수를 이용하여 각 자리수의 함을 구한다.\n"
      ],
      "metadata": {
        "id": "SEzsnPf9eqTV"
      },
      "execution_count": null,
      "outputs": []
    },
    {
      "cell_type": "markdown",
      "source": [
        "3. 알파벳 찾기\n",
        "* 각각의 알파벳에 대해서, a가 처음 등장하는 위치, b가 처음 등장하는 위치, ... z가 처음 등장하는 위치를 공백으로 구분해서 출력한다.\n",
        "\n",
        "* 만약, 어떤 알파벳이 단어에 포함되어 있지 않다면 -1을 출력한다. 단어의 첫 번째 글자는 0번째 위치이고, 두 번째 글자는 1번째 위치이다."
      ],
      "metadata": {
        "id": "BRh8NJ-9itcP"
      }
    },
    {
      "cell_type": "code",
      "source": [
        "a = input()\n",
        "\n",
        "index = []\n",
        "for x in range(97,123):         # 아스키 코드를 이용하여 \n",
        "  x = str(chr(x))\n",
        "  if x in a :\n",
        "    index += [a.index(x)]\n",
        "  else:\n",
        "    index += [-1]\n",
        "\n",
        "for y in index:\n",
        "  print( y ,end = \" \")"
      ],
      "metadata": {
        "colab": {
          "base_uri": "https://localhost:8080/"
        },
        "id": "2oC3mFZKhMVD",
        "outputId": "4b577941-83ed-41d1-be76-bfaf9d364741"
      },
      "execution_count": null,
      "outputs": [
        {
          "output_type": "stream",
          "name": "stdout",
          "text": [
            "apple\n",
            "0 -1 -1 -1 4 -1 -1 -1 -1 -1 -1 3 -1 -1 -1 1 -1 -1 -1 -1 -1 -1 -1 -1 -1 -1 "
          ]
        }
      ]
    },
    {
      "cell_type": "markdown",
      "source": [
        "4. 문자열 반복"
      ],
      "metadata": {
        "id": "KDNMQ7gcqf0t"
      }
    },
    {
      "cell_type": "code",
      "source": [
        "T = int(input())\n",
        "\n",
        "for _ in range(T):\n",
        "  R,S = input().split()\n",
        "  for s in S:\n",
        "    print(s * int(R),end = \"\")  # end 와 sep의 차이를 구별하자.\n",
        "  print()   # print()를 해주지않으면 입력값이 전 출력값 옆에 입력된다."
      ],
      "metadata": {
        "id": "8ceJTuMOqgEc"
      },
      "execution_count": null,
      "outputs": []
    },
    {
      "cell_type": "markdown",
      "source": [
        "5. 단어 공부"
      ],
      "metadata": {
        "id": "saH9v9YbsR5I"
      }
    },
    {
      "cell_type": "code",
      "source": [
        "word = input() # 단어 입력\n",
        "new_word = word.upper() # 대문자로 변경\n",
        "\n",
        "alpha = list(set(new_word)) # 중복 제거\n",
        "\n",
        "cnt = [] # 개수 셀 리스트 생성\n",
        "\n",
        "for y in alpha:\n",
        "  cnt += [new_word.count(y)]\n",
        "\n",
        "if cnt.count(max(cnt)) > 1 :  # count 숫자 최대값이 중복되면\n",
        "    print('?')\n",
        "else: # 최대값이 1개만 존재하면 그 대문자 출력\n",
        "  index = cnt.index(max(cnt))\n",
        "  print(alpha[index])  \n",
        "\n",
        "\n",
        "\n"
      ],
      "metadata": {
        "id": "MzaMHCXgsSGi"
      },
      "execution_count": null,
      "outputs": []
    },
    {
      "cell_type": "markdown",
      "source": [
        "6. 단어의 개수"
      ],
      "metadata": {
        "id": "lLbZgyTC-znn"
      }
    },
    {
      "cell_type": "code",
      "source": [
        "sentence = input().split()\n",
        "\n",
        "print(len(sentence))"
      ],
      "metadata": {
        "id": "3uQJNDAN2Xw-"
      },
      "execution_count": null,
      "outputs": []
    },
    {
      "cell_type": "markdown",
      "source": [
        "7. 상수"
      ],
      "metadata": {
        "id": "umMiZNGnDPcb"
      }
    },
    {
      "cell_type": "code",
      "source": [
        "A,B = input().split()\n",
        "\n",
        "A = int(A[2]+A[1]+A[0])\n",
        "B = int(B[2]+B[1]+B[0])\n",
        "\n",
        "if A > B: print(A)\n",
        "else: print(B)\n",
        "\n",
        "\n"
      ],
      "metadata": {
        "id": "RVZyZIoMDPqz"
      },
      "execution_count": null,
      "outputs": []
    },
    {
      "cell_type": "markdown",
      "source": [
        "8. 다이얼 ( 구글링 함 )"
      ],
      "metadata": {
        "id": "FshfVSCrN1VR"
      }
    },
    {
      "cell_type": "code",
      "source": [
        "dial = [\"ABC\",\"DEF\",\"GHI\",\"JKL\",\"MNO\",\"PQRS\",\"TUV\",\"WXYZ\"]\n",
        "\n",
        "W = list(input())\n",
        "\n",
        "cnt = 0\n",
        "for w in W:\n",
        "  for d in dial:\n",
        "    if w in d:\n",
        "      cnt += dial.index(d) + 3\n",
        "\n",
        "print(cnt)\n",
        "\n"
      ],
      "metadata": {
        "id": "Ff0M9ydoG9Dc"
      },
      "execution_count": null,
      "outputs": []
    },
    {
      "cell_type": "markdown",
      "source": [
        "9.크로아티아 알파벳"
      ],
      "metadata": {
        "id": "tTDL4rzOU47I"
      }
    },
    {
      "cell_type": "code",
      "source": [
        "a = input()\n",
        "\n",
        "croatia = [\"c=\",\"c-\",\"dz=\",\"d-\",\"lj\",\"nj\",\"s=\",\"z=\"]\n",
        "cnt = 0\n",
        "\n",
        "for x in croatia:\n",
        "  if x in a:\n",
        "    a = a.replace(x,' ')\n",
        "    \n",
        "cnt += len(a)\n",
        "print(cnt)\n",
        "\n"
      ],
      "metadata": {
        "id": "fsdSAMMvU5Iz",
        "colab": {
          "base_uri": "https://localhost:8080/"
        },
        "outputId": "0cda90c2-6640-4422-d9a3-a1a480bdf8df"
      },
      "execution_count": null,
      "outputs": [
        {
          "output_type": "stream",
          "name": "stdout",
          "text": [
            "nljj\n",
            "3\n"
          ]
        }
      ]
    },
    {
      "cell_type": "markdown",
      "source": [
        "10. 그룹 단어 체커"
      ],
      "metadata": {
        "id": "C6iXwoq02sE-"
      }
    },
    {
      "cell_type": "code",
      "source": [
        "N = int(input())\n",
        "\n",
        "group_word = 0\n",
        "for _ in range(N):\n",
        "  word = input()\n",
        "  error = 0\n",
        "  for x in range(len(word)-1):\n",
        "    if word[x] != word[x+1]:\n",
        "      new_word = word[x+1:]\n",
        "      if new_word.count(word[x]) > 0:\n",
        "        error += 1\n",
        "  \n",
        "  if error == 0:\n",
        "    group_word += 1\n",
        "print(group_word)\n"
      ],
      "metadata": {
        "id": "W4kDURSv2sQz"
      },
      "execution_count": null,
      "outputs": []
    }
  ]
}