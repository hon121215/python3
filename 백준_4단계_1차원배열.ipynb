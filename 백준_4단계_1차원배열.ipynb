{
  "nbformat": 4,
  "nbformat_minor": 0,
  "metadata": {
    "colab": {
      "provenance": []
    },
    "kernelspec": {
      "name": "python3",
      "display_name": "Python 3"
    },
    "language_info": {
      "name": "python"
    }
  },
  "cells": [
    {
      "cell_type": "markdown",
      "source": [
        "1. 개수 세기"
      ],
      "metadata": {
        "id": "vz8S6QRxj8i_"
      }
    },
    {
      "cell_type": "code",
      "execution_count": null,
      "metadata": {
        "id": "-HWHmAWtgdN8"
      },
      "outputs": [],
      "source": [
        "N = int(input())\n",
        "N_list = list(map(int, input().split()))\n",
        "v = int(input())\n",
        "print(N_list.count(v))\n"
      ]
    },
    {
      "cell_type": "markdown",
      "source": [
        "2. X보다 작은 수"
      ],
      "metadata": {
        "id": "vEvnq5fFkLvW"
      }
    },
    {
      "cell_type": "code",
      "source": [
        "N,X = map(int,input().split())\n",
        "\n",
        "A = list(map(int,input().split()))\n",
        "for x in range(N):\n",
        "  if A[x] < X:\n",
        "    print(A[x],end = \" \") # end = \" \"를 설정해주는 이유는 순서대로 공백으로 구분해 출력해주기 위함이다."
      ],
      "metadata": {
        "id": "b9aG473kkL-I"
      },
      "execution_count": null,
      "outputs": []
    },
    {
      "cell_type": "markdown",
      "source": [
        "3. 최대, 최소"
      ],
      "metadata": {
        "id": "1BPvqkWonBl5"
      }
    },
    {
      "cell_type": "code",
      "source": [
        "N = int(input())\n",
        "N_list = list(map(int,input().split()))\n",
        "\n",
        "print(min(N_list),max(N_list))"
      ],
      "metadata": {
        "id": "OLrOHE8BlO64"
      },
      "execution_count": null,
      "outputs": []
    },
    {
      "cell_type": "markdown",
      "source": [
        "4. 최댓값"
      ],
      "metadata": {
        "id": "ociTY6P3n04-"
      }
    },
    {
      "cell_type": "code",
      "source": [
        "N_list = []\n",
        "while True:\n",
        "  try:\n",
        "    a = int(input())\n",
        "    N_list += [a]\n",
        "  except:\n",
        "    break\n",
        "print(max(N_list))\n",
        "print(N_list.index(max(N_list))+1)"
      ],
      "metadata": {
        "id": "YejpSlSfn1KI"
      },
      "execution_count": null,
      "outputs": []
    },
    {
      "cell_type": "markdown",
      "source": [
        "5. 1~30 사이에 없는 값 중 최소 최대 값 구하기"
      ],
      "metadata": {
        "id": "T7HsgKHXpxAj"
      }
    },
    {
      "cell_type": "code",
      "source": [
        "S = list()\n",
        "for x in range(1,31):\n",
        "  S += [x]\n",
        "\n",
        "s = list()\n",
        "while True:\n",
        "  try:\n",
        "    a = int(input())\n",
        "    s += [a]\n",
        "  except:\n",
        "    break\n",
        "R = list(set(S) - set(s))\n",
        "print(min(R))\n",
        "print(max(R))"
      ],
      "metadata": {
        "id": "sjtBLdtapxQT"
      },
      "execution_count": null,
      "outputs": []
    },
    {
      "cell_type": "markdown",
      "source": [
        "6. 나머지"
      ],
      "metadata": {
        "id": "IjArF_72rd8i"
      }
    },
    {
      "cell_type": "code",
      "source": [
        "N_list = list() # 나눌 숫자가 들어갈 리스트\n",
        "sub = list() # 42로 나눈 나머지가 들어갈 리스트\n",
        "\n",
        "while True:\n",
        "  try:\n",
        "    n = int(input())\n",
        "    N_list += [n]\n",
        "  except:\n",
        "    break\n",
        "\n",
        "for x in N_list:\n",
        "  sub += [x%42]\n",
        "print(len(set(sub)))"
      ],
      "metadata": {
        "id": "V46nK1aCrftK"
      },
      "execution_count": null,
      "outputs": []
    },
    {
      "cell_type": "code",
      "source": [
        "arr = []\n",
        "for i in range(10):\n",
        "    n = int(input())\n",
        "    arr.append(n % 42)\n",
        "arr = set(arr)\n",
        "print(len(arr))"
      ],
      "metadata": {
        "id": "H3KJy9wXvq0J"
      },
      "execution_count": null,
      "outputs": []
    },
    {
      "cell_type": "markdown",
      "source": [
        "7. 시험성적 조작하기"
      ],
      "metadata": {
        "id": "Cn45L-GPv8ce"
      }
    },
    {
      "cell_type": "code",
      "source": [
        "n = int(input())\n",
        "score = []\n",
        "for x in range(n):\n",
        "  a = int(input())\n",
        "  score.append(a)\n",
        "\n",
        "S = []\n",
        "for i in score:\n",
        "  S.append((i/max(score))*100)\n",
        "print(sum(S)/len(S))"
      ],
      "metadata": {
        "id": "xbbR_xOOv_Kv"
      },
      "execution_count": null,
      "outputs": []
    },
    {
      "cell_type": "code",
      "source": [
        "n = int(input())\n",
        "score_list = list(map(int,input().split()))\n",
        "max_score = max(score_list)\n",
        "\n",
        "new_score = []\n",
        "for score in score_list:\n",
        "  new_score.append(score/max_score *100)\n",
        "\n",
        "avg_score = sum(new_score)/n\n",
        "print(avg_score)"
      ],
      "metadata": {
        "id": "XGJ_M6Qsy0iy"
      },
      "execution_count": null,
      "outputs": []
    },
    {
      "cell_type": "markdown",
      "source": [
        "8. OX 퀴즈 점수 맞추기"
      ],
      "metadata": {
        "id": "SwGW8gOT0eek"
      }
    },
    {
      "cell_type": "code",
      "source": [
        "test_n = int(input())\n",
        "\n",
        "for x in range(test_n):\n",
        "  test = input()\n",
        "  score = 0 # 다른 테스트 평가를 위한 초기화\n",
        "  sum_score = 0 # 다른 테스트 평가를 위한 초기화\n",
        "  for i in test:\n",
        "    if i == 'O':\n",
        "      score += 1\n",
        "      sum_score += score\n",
        "    else:\n",
        "      score = 0\n",
        "  print(sum_score)\n"
      ],
      "metadata": {
        "id": "v6p1z88z0stT"
      },
      "execution_count": null,
      "outputs": []
    },
    {
      "cell_type": "markdown",
      "source": [
        "9. 평균은 넘겠지"
      ],
      "metadata": {
        "id": "zHlNbDF-44nQ"
      }
    },
    {
      "cell_type": "code",
      "source": [
        "C = int(input())\n",
        "\n",
        "for x in range(C):\n",
        "  student = list(map(int,input().split()))\n",
        "  avg = sum(student[1:])/student[0]\n",
        "  cnt = 0\n",
        "  for x in student[1:]:\n",
        "    if x > avg:\n",
        "      cnt += 1\n",
        "  rate = cnt/student[0] * 100\n",
        "  print(f'{rate:.3f}%')\n"
      ],
      "metadata": {
        "id": "7JZ-oOVr441H"
      },
      "execution_count": null,
      "outputs": []
    },
    {
      "cell_type": "code",
      "source": [],
      "metadata": {
        "id": "dVluU2ak_xHV"
      },
      "execution_count": 47,
      "outputs": []
    }
  ]
}