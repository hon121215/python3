{
  "nbformat": 4,
  "nbformat_minor": 0,
  "metadata": {
    "colab": {
      "provenance": []
    },
    "kernelspec": {
      "name": "python3",
      "display_name": "Python 3"
    },
    "language_info": {
      "name": "python"
    }
  },
  "cells": [
    {
      "cell_type": "markdown",
      "source": [
        "1. 구구단 만들기"
      ],
      "metadata": {
        "id": "KWUsVdHhJ7Of"
      }
    },
    {
      "cell_type": "code",
      "execution_count": null,
      "metadata": {
        "id": "SJFVJpwfEuVv"
      },
      "outputs": [],
      "source": [
        "N = int(input())\n",
        "\n",
        "for i in range(1,10):\n",
        "  print('{0} * {1} = {2}'.format(N,i,N*i))"
      ]
    },
    {
      "cell_type": "markdown",
      "source": [
        "2. A+B-3"
      ],
      "metadata": {
        "id": "0LdAdj1xKAab"
      }
    },
    {
      "cell_type": "code",
      "source": [
        "T = int(input())\n",
        "a=0\n",
        "\n",
        "while a < T:\n",
        "  a += 1\n",
        "  x,y = map(int,input().split())\n",
        "  print(x+y)"
      ],
      "metadata": {
        "id": "BfmtS-snKABy"
      },
      "execution_count": null,
      "outputs": []
    },
    {
      "cell_type": "markdown",
      "source": [
        "3. N까지 주어졌을때 1부터 N까지 합을 구하는 프로그램"
      ],
      "metadata": {
        "id": "dIR52QXZM98M"
      }
    },
    {
      "cell_type": "code",
      "source": [
        "N = int(input())\n",
        "\n",
        "sum = 0\n",
        "for x in range(1,N+1):\n",
        "  sum += x\n",
        "print(sum)"
      ],
      "metadata": {
        "id": "Yphks5apLHLd"
      },
      "execution_count": null,
      "outputs": []
    },
    {
      "cell_type": "markdown",
      "source": [
        "4. 영수증"
      ],
      "metadata": {
        "id": "b7tybZSVOAG1"
      }
    },
    {
      "cell_type": "code",
      "source": [
        "total = int(input())\n",
        "\n",
        "type_n = int(input())\n",
        "n = 0\n",
        "sum = 0 #총액과 비교할 변수\n",
        "while n < type_n:\n",
        "  n += 1\n",
        "  x,y = map(int,input().split())\n",
        "  sum += x*y\n",
        "\n",
        "if total == sum: print('Yes')\n",
        "else: print('No')"
      ],
      "metadata": {
        "id": "z-g6QZ-tNRnN"
      },
      "execution_count": null,
      "outputs": []
    },
    {
      "cell_type": "markdown",
      "source": [
        "5. 빠른 A+B 구하기\n",
        "\n",
        "\n",
        "**놀라운 사실 : 코랩에서는 sys.stdin.readline() 사용 불가.**\n",
        "\n"
      ],
      "metadata": {
        "id": "wQ5ks7hvTb5T"
      }
    },
    {
      "cell_type": "code",
      "source": [
        "import sys\n",
        "\n",
        "U = int(sys.stdin.readline())\n",
        "\n",
        "for x in range(T):\n",
        "  A,B = map(int, sys.stdin.readline().split())\n",
        "  print(A+B)\n",
        "\n",
        "# stdin 안에는 input() 호출을 포함하고있다."
      ],
      "metadata": {
        "id": "8Gr2zTULTenm"
      },
      "execution_count": null,
      "outputs": []
    },
    {
      "cell_type": "markdown",
      "source": [
        "6. 결과값 이쁘게 출력하기"
      ],
      "metadata": {
        "id": "PQeJm9Z4bFff"
      }
    },
    {
      "cell_type": "code",
      "source": [
        "T = int(input())\n",
        "i = 0\n",
        "\n",
        "while i < T:\n",
        "  i += 1\n",
        "  x,y = map(int,input().split())\n",
        "  print('Case #{0}: {1}'.format(i,x+y))"
      ],
      "metadata": {
        "id": "QvK3ekRabF0a"
      },
      "execution_count": null,
      "outputs": []
    },
    {
      "cell_type": "markdown",
      "source": [
        "7. 한 층 더 업그레이드 된 출력"
      ],
      "metadata": {
        "id": "GuXzi3IwcCzT"
      }
    },
    {
      "cell_type": "code",
      "source": [
        "T = int(input())\n",
        "i = 0\n",
        "\n",
        "while i < T:\n",
        "  i += 1\n",
        "  x,y = map(int,input().split())\n",
        "  print(\"Case #{0}: {1} + {2} = {3}\".format(i,x,y,x+y ))"
      ],
      "metadata": {
        "id": "WV6zb5xRcF-c"
      },
      "execution_count": null,
      "outputs": []
    },
    {
      "cell_type": "markdown",
      "source": [
        "8. 별따러갈래"
      ],
      "metadata": {
        "id": "0QAEUDZkcx-i"
      }
    },
    {
      "cell_type": "code",
      "source": [
        "# ---------- 왼쪽부터 ----------\n",
        "S = int(input())\n",
        "\n",
        "i = 0\n",
        "while i<S:\n",
        "  i += 1\n",
        "  print(i*'*')\n",
        "\n",
        "# ---------- 오른쪽부터 ----------\n",
        "\n",
        "S = int(input())\n",
        "\n",
        "i = 0\n",
        "while i<S:\n",
        "  i += 1\n",
        "  print(' '*(S-i) + i*'*')"
      ],
      "metadata": {
        "id": "QzI4i1DBcz21"
      },
      "execution_count": null,
      "outputs": []
    },
    {
      "cell_type": "markdown",
      "source": [
        "9. 0이 들어오면 반복문 종료"
      ],
      "metadata": {
        "id": "QRSM--DhefdX"
      }
    },
    {
      "cell_type": "code",
      "source": [
        "while True:\n",
        "  a,b = map(int,input().split())\n",
        "  if a == b == 0: break\n",
        "  print(a+b)\n"
      ],
      "metadata": {
        "id": "ilwbT91wefrM"
      },
      "execution_count": null,
      "outputs": []
    },
    {
      "cell_type": "markdown",
      "source": [
        "10. 예외상황에는 끝내는 조건 추가\n",
        "0 < A,B < 10 이기때문에 \n",
        "두 숫자의 합은 18을 넘길 수 없다.\n",
        "**EOF 문제로 End of File의 줄임말이다 입력이 끝날때까지 계속해서 수행한다.**"
      ],
      "metadata": {
        "id": "CDojoOuzhMPX"
      }
    },
    {
      "cell_type": "code",
      "source": [
        "while True:\n",
        "  try:\n",
        "    a,b = map(int,input().split())\n",
        "    if a+b <= 18:\n",
        "      print(a+b)\n",
        "  except:\n",
        "    break"
      ],
      "metadata": {
        "id": "jdVbqJdffesi"
      },
      "execution_count": null,
      "outputs": []
    },
    {
      "cell_type": "markdown",
      "source": [
        "11. 더하기 사이클"
      ],
      "metadata": {
        "id": "Tx2Uqa9Y6y7j"
      }
    },
    {
      "cell_type": "code",
      "source": [
        "n = int(input())\n",
        "num = n\n",
        "cycle = 0\n",
        "\n",
        "while True:\n",
        "  a = num//10\n",
        "  b = num%10\n",
        "  c = (a+b)%10\n",
        "  num = (b*10) + c\n",
        "\n",
        "  cycle += 1\n",
        "  if(num == n):\n",
        "    break\n",
        "  \n",
        "print(cycle)\n"
      ],
      "metadata": {
        "id": "AQj9kFXPfe8m"
      },
      "execution_count": null,
      "outputs": []
    },
    {
      "cell_type": "markdown",
      "source": [
        "11. 더하기 사이클\n",
        "( 시간초과 )"
      ],
      "metadata": {
        "id": "W8zRpFf5fei2"
      }
    },
    {
      "cell_type": "code",
      "source": [
        "n = input()\n",
        "num = n\n",
        "cycle = 0\n",
        "\n",
        "while True:\n",
        "  if len(num) == 1:\n",
        "    num = \"0\" + num\n",
        "  plus = str(int(num[0]) + int(num[1]))\n",
        "  num = num[-1] + plus[-1]\n",
        "  cycle += 1\n",
        "  if num == n:\n",
        "    print(cycle)\n",
        "    break"
      ],
      "metadata": {
        "id": "A_USsnVEwNW2"
      },
      "execution_count": null,
      "outputs": []
    }
  ]
}