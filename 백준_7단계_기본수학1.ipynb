{
  "nbformat": 4,
  "nbformat_minor": 0,
  "metadata": {
    "colab": {
      "provenance": []
    },
    "kernelspec": {
      "name": "python3",
      "display_name": "Python 3"
    },
    "language_info": {
      "name": "python"
    }
  },
  "cells": [
    {
      "cell_type": "markdown",
      "source": [
        "1. 손익분기점\n",
        "* C > A + B\n",
        "* C = 가격 / A = 고정 비용 / B = 가변 비용"
      ],
      "metadata": {
        "id": "U3cH9zXL6yjW"
      }
    },
    {
      "cell_type": "code",
      "execution_count": null,
      "metadata": {
        "colab": {
          "base_uri": "https://localhost:8080/"
        },
        "id": "00o3yaL86p_9",
        "outputId": "04047b8f-2aec-4866-d57d-f250e2ded5db"
      },
      "outputs": [
        {
          "output_type": "stream",
          "name": "stdout",
          "text": [
            "1000 70 170\n",
            "11\n"
          ]
        }
      ],
      "source": [
        "A,B,C = map(int,input().split())\n",
        "\n",
        "if B >= C:\n",
        "  print(-1)\n",
        "else:\n",
        "  print(int(A/(C-B)+1))"
      ]
    },
    {
      "cell_type": "markdown",
      "source": [
        "2. 벌집"
      ],
      "metadata": {
        "id": "VPHTGBOjGTBw"
      }
    },
    {
      "cell_type": "code",
      "source": [
        "N = int(input())\n",
        "\n",
        "a = 0\n",
        "range = 1\n",
        "while range < N:\n",
        "  a += 1\n",
        "  range += a*6\n",
        "print(a+1)"
      ],
      "metadata": {
        "colab": {
          "base_uri": "https://localhost:8080/"
        },
        "id": "sSLQ2LDDGTNA",
        "outputId": "67795500-a241-4d18-f1af-b0afd23bfc4a"
      },
      "execution_count": null,
      "outputs": [
        {
          "output_type": "stream",
          "name": "stdout",
          "text": [
            "13\n",
            "3\n"
          ]
        }
      ]
    },
    {
      "cell_type": "markdown",
      "source": [
        "3. 분수찾기"
      ],
      "metadata": {
        "id": "hGafNHBD9OSP"
      }
    },
    {
      "cell_type": "code",
      "source": [
        "N = int(input())\n",
        "\n",
        "a = 0\n",
        "range = 0\n",
        "while range < N:\n",
        "  a += 1\n",
        "  range += a\n",
        "\n",
        "gap = range - N\n",
        "if a % 2 == 0:\n",
        "  top = a-gap\n",
        "  under = gap + 1\n",
        "else:\n",
        "  top = gap +1\n",
        "  under = a - gap\n",
        "print(f'{top}/{under}')"
      ],
      "metadata": {
        "colab": {
          "base_uri": "https://localhost:8080/"
        },
        "id": "Ni6JDKnuLJM_",
        "outputId": "f9859a4c-822b-4e76-cec8-bc2b824a5052"
      },
      "execution_count": null,
      "outputs": [
        {
          "output_type": "stream",
          "name": "stdout",
          "text": [
            "14\n",
            "2/4\n"
          ]
        }
      ]
    },
    {
      "cell_type": "markdown",
      "source": [
        "4. 달팽이는 올라가고 싶다.\n",
        "* 높이가 V인 나무막대를 올라간다\n",
        "* 낮에는 A미터 올라가고 밤에는 B미터미끄러진다"
      ],
      "metadata": {
        "id": "ho_SaviLE21y"
      }
    },
    {
      "cell_type": "code",
      "source": [
        "A,B,V = map(int,input().split())\n",
        "\n",
        "C = 0\n",
        "day = 0\n",
        "while True:\n",
        "  C += A\n",
        "  day += 1\n",
        "  if C >= V:\n",
        "    print(day)\n",
        "    break\n",
        "  C -= B\n"
      ],
      "metadata": {
        "id": "T-c-vJ6GE3EU"
      },
      "execution_count": null,
      "outputs": []
    },
    {
      "cell_type": "code",
      "source": [
        "a,b,v = map(int,input().split())\n",
        "k = (v-b)/(a-b)\n",
        "print(int(k) if k == int(k) else int(k)+1)    # A if B else C : B가 True이면 A를 출력하고 False 이면 C를 출력해라"
      ],
      "metadata": {
        "id": "3VjAtwFbYbK_"
      },
      "execution_count": null,
      "outputs": []
    },
    {
      "cell_type": "markdown",
      "source": [
        "5. ACM 호텔\n",
        "\n",
        "* T 테스트 개수\n",
        "* H 층 W 방 개수 N 번째 손님"
      ],
      "metadata": {
        "id": "ZNh8zKNUaGYv"
      }
    },
    {
      "cell_type": "code",
      "source": [
        "T = int(input())\n",
        "for _ in range(T):\n",
        "  H,W,N = map(int,input().split())\n",
        "  h = N//H + 1\n",
        "  n = N%H \n",
        "  if N % H == 0:\n",
        "    h = N//H\n",
        "    n = H\n",
        "  print(f'{n*100+h}')\n",
        "\n",
        "\n",
        "# 처음 작성 답 : N 이 H의 배수일때 오류발생\n",
        "T = int(input())\n",
        "for _ in range(T):\n",
        "  H,W,N = map(int,input().split())\n",
        "  n = str(N%H)\n",
        "  h = int(N//H) + 1 \n",
        "  if h < 10:\n",
        "    h = '0' + str(h)\n",
        "  print(n + str(h))"
      ],
      "metadata": {
        "id": "AhtLqL-gZwJ3"
      },
      "execution_count": null,
      "outputs": []
    },
    {
      "cell_type": "markdown",
      "source": [
        "6. 부녀회장이 될테야 ( 구글링 )"
      ],
      "metadata": {
        "id": "SrGfLd9ZgqDe"
      }
    },
    {
      "cell_type": "code",
      "source": [
        "t = int(input())\n",
        "\n",
        "for _ in range(t):  \n",
        "    floor = int(input())  # 층\n",
        "    num = int(input())  # 호\n",
        "    f0 = [x for x in range(1, num+1)]  # 0층 리스트\n",
        "    for y in range(floor):  # 층 수 만큼 반복\n",
        "        for i in range(1, num):  # 1 ~ n-1까지 (인덱스로 사용)\n",
        "            f0[i] += f0[i-1]  # 층별 각 호실의 사람 수를 변경\n",
        "    print(f0[-1])  # 가장 마지막 수 출력"
      ],
      "metadata": {
        "id": "j4cm592IgqOs"
      },
      "execution_count": null,
      "outputs": []
    },
    {
      "cell_type": "markdown",
      "source": [
        "7. 설탕 배달 ( 구글링 )\n",
        " * 3의 배수와 5의 배수 판별 후 구하기"
      ],
      "metadata": {
        "id": "ZBwK8F9qoQ5F"
      }
    },
    {
      "cell_type": "code",
      "source": [
        "sugar = int(input())\n",
        "bag = 0\n",
        "\n",
        "while sugar >= 0:\n",
        "  if sugar % 5 == 0:\n",
        "    bag += int(sugar // 5)\n",
        "    print(bag)\n",
        "    break\n",
        "  \n",
        "  sugar -= 3\n",
        "  bag += 1\n",
        "  \n",
        "else:\n",
        "  print(-1)"
      ],
      "metadata": {
        "colab": {
          "base_uri": "https://localhost:8080/"
        },
        "id": "3Wo7XqU2kHgV",
        "outputId": "76fad6a9-da24-4cfa-970d-a1e5ee08fcfe"
      },
      "execution_count": 31,
      "outputs": [
        {
          "output_type": "stream",
          "name": "stdout",
          "text": [
            "9\n",
            "3\n"
          ]
        }
      ]
    },
    {
      "cell_type": "code",
      "source": [
        "A,B = map(int,input().split())\n",
        "\n",
        "print(A + B)\n"
      ],
      "metadata": {
        "colab": {
          "base_uri": "https://localhost:8080/"
        },
        "id": "0cN9db05vPFy",
        "outputId": "977d3b6a-3bb5-431d-8ac6-0f92b303920d"
      },
      "execution_count": 32,
      "outputs": [
        {
          "output_type": "stream",
          "name": "stdout",
          "text": [
            "9223372036854775807 9223372036854775808\n",
            "18446744073709551615\n"
          ]
        }
      ]
    },
    {
      "cell_type": "markdown",
      "source": [],
      "metadata": {
        "id": "lzgTR_9OhlNy"
      }
    }
  ]
}