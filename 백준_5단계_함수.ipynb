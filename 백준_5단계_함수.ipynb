{
  "nbformat": 4,
  "nbformat_minor": 0,
  "metadata": {
    "colab": {
      "provenance": []
    },
    "kernelspec": {
      "name": "python3",
      "display_name": "Python 3"
    },
    "language_info": {
      "name": "python"
    }
  },
  "cells": [
    {
      "cell_type": "markdown",
      "source": [
        "1. 정수 n개가 주어졌을 때, n개의 합을 구하는 함수를 작성하시오."
      ],
      "metadata": {
        "id": "EfpjkyqEWBad"
      }
    },
    {
      "cell_type": "code",
      "execution_count": null,
      "metadata": {
        "id": "dpv2sb8NT2Ts"
      },
      "outputs": [],
      "source": [
        "def solve(a):\n",
        "  sum = 0\n",
        "  for x in a:\n",
        "    sum += x\n",
        "  return(sum)"
      ]
    },
    {
      "cell_type": "markdown",
      "source": [
        "2. 셀프 넘버"
      ],
      "metadata": {
        "id": "iFXpVprrXxus"
      }
    },
    {
      "cell_type": "code",
      "source": [
        "def s(n):\n",
        "  each_sum = sum(map(int,str(n)))\n",
        "  result = n + each_sum\n",
        "  return(result)\n",
        "\n",
        "number = []\n",
        "number_list = list(range(1,10001))\n",
        "for x in range(1,10000):\n",
        "  if s(x) <= 10000:\n",
        "    number.append(s(x))\n",
        "  else: pass\n",
        "\n",
        "self_number = list(set(number_list) - set(number))\n",
        "self_number.sort()\n",
        "\n",
        "for y in self_number:\n",
        "  print(y)\n",
        "\n"
      ],
      "metadata": {
        "id": "FufY-Ha9XyBI"
      },
      "execution_count": null,
      "outputs": []
    },
    {
      "cell_type": "markdown",
      "source": [
        "3. 한수"
      ],
      "metadata": {
        "id": "hIRT-qDxZ6ux"
      }
    },
    {
      "cell_type": "code",
      "source": [
        "def on(): # on = One(한) Number(수) 의 줄임말\n",
        "  x = int(input())\n",
        "  cnt = 0\n",
        "  for i in range(1,x + 1):\n",
        "    if 1 <= i <= 99:\n",
        "        cnt += 1\n",
        "    elif 100 <= i <= 999:\n",
        "      f = i//10\n",
        "      s = i%100\n",
        "      if (f//10 - f%10) == (s//10 - s%10):\n",
        "        cnt += 1\n",
        "    else:\n",
        "      pass\n",
        "  return(cnt)\n",
        "\n"
      ],
      "metadata": {
        "id": "K5AyBKFsZ7Nz"
      },
      "execution_count": null,
      "outputs": []
    },
    {
      "cell_type": "code",
      "source": [
        "x = int(input())\n",
        "\n",
        "def on(x): # on = One(한) Number(수) 의 줄임말\n",
        "  cnt = 0\n",
        "  for i in range(1,x + 1):\n",
        "    if 1 <= i <= 99:\n",
        "        cnt += 1\n",
        "    elif 100 <= i <= 999:\n",
        "      f = i//10\n",
        "      s = i%100\n",
        "      if (f//10 - f%10) == (s//10 - s%10):\n",
        "        cnt += 1\n",
        "    else:\n",
        "      pass\n",
        "  return(cnt)\n",
        "\n",
        "print(on(x))"
      ],
      "metadata": {
        "id": "RPoKTILZ0p2O"
      },
      "execution_count": null,
      "outputs": []
    }
  ]
}