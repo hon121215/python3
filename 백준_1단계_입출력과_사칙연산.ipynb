{
  "nbformat": 4,
  "nbformat_minor": 0,
  "metadata": {
    "colab": {
      "provenance": []
    },
    "kernelspec": {
      "name": "python3",
      "display_name": "Python 3"
    },
    "language_info": {
      "name": "python"
    }
  },
  "cells": [
    {
      "cell_type": "markdown",
      "source": [
        "1. Hello World! 를 출력하시오"
      ],
      "metadata": {
        "id": "-00_yfVc4vsy"
      }
    },
    {
      "cell_type": "code",
      "execution_count": null,
      "metadata": {
        "id": "PKIoQqbB4O6c"
      },
      "outputs": [],
      "source": [
        "print(\"Hello World!\")"
      ]
    },
    {
      "cell_type": "markdown",
      "source": [
        "2. A와 B를 입력받아서 A+B 출력하기\n",
        "3. A와 B를 입력받아서 A-B 출력하기\n",
        "4. A와 B를 입력받아서 A*B 출력하기\n",
        "5. A와 B를 입력받아서 A/B 출력하기"
      ],
      "metadata": {
        "id": "BmicQqOi6pRV"
      }
    },
    {
      "cell_type": "code",
      "source": [
        "A,B = map(int, input().split()) # map(적용할 함수, 적용할 값)\n",
        "print(A+B)\n",
        "print(A-B)\n",
        "print(A*B)\n",
        "print(A/B)"
      ],
      "metadata": {
        "id": "k11ldJ1N5ns0"
      },
      "execution_count": null,
      "outputs": []
    },
    {
      "cell_type": "markdown",
      "source": [
        "6. 사칙연산\n",
        "\n",
        "---\n",
        "\n",
        "\n",
        "첫째 줄에 A+B, 둘째 줄에 A-B, 셋째 줄에 A*B, 넷째 줄에 A/B, 다섯째 줄에 A%B를 출력한다."
      ],
      "metadata": {
        "id": "wRK7Vt5n-a66"
      }
    },
    {
      "cell_type": "code",
      "source": [
        "A,B = map(int,input().split())\n",
        "print(A+B)\n",
        "print(A-B)\n",
        "print(A*B)\n",
        "print(A//B) # 몫\n",
        "print(A%B)  # 나머지"
      ],
      "metadata": {
        "id": "OMA82oVA6onk"
      },
      "execution_count": null,
      "outputs": []
    },
    {
      "cell_type": "markdown",
      "source": [
        "7. 문자열입력받아서 문자열끼리의 덧셈연산"
      ],
      "metadata": {
        "id": "zYgeUsVHCh71"
      }
    },
    {
      "cell_type": "code",
      "source": [
        "ID = input()\n",
        "print(ID + \"??!\")"
      ],
      "metadata": {
        "id": "fwPysE9_-Z2Z"
      },
      "execution_count": null,
      "outputs": []
    },
    {
      "cell_type": "markdown",
      "source": [
        "8. 불기연도값을 입력받아 서기연도 알아내기"
      ],
      "metadata": {
        "id": "H7E_5m0uCotP"
      }
    },
    {
      "cell_type": "code",
      "source": [
        "Year = int(input()) # 불기 연도 입력\n",
        "print(Year - 543) # 543 은 불기연도와 서기연도의 차이이다."
      ],
      "metadata": {
        "id": "i-h8SWF5AMur"
      },
      "execution_count": null,
      "outputs": []
    },
    {
      "cell_type": "markdown",
      "source": [
        "9. 킹,퀸,룩,비숍,나이트,폰"
      ],
      "metadata": {
        "id": "vKoGJTnvCuXw"
      }
    },
    {
      "cell_type": "code",
      "source": [
        "K,Q,L,B,N,P = map(int,input().split())\n",
        "print( 1-K , 1-Q , 2-L , 2-B , 2-N , 8-P )"
      ],
      "metadata": {
        "id": "aO642nu0DF9z"
      },
      "execution_count": null,
      "outputs": []
    },
    {
      "cell_type": "markdown",
      "source": [
        "10. 나머지의 분배법칙이 성립할까"
      ],
      "metadata": {
        "id": "k3Hbzd0aDoo0"
      }
    },
    {
      "cell_type": "code",
      "source": [
        "A,B,C = map(int,input().split())\n",
        "\n",
        "print((A+B)%C)\n",
        "print(((A%C)+(B%C))%C)\n",
        "if((A+B)%C == ((A%C)+(B%C))%C):\n",
        "  print(True)\n",
        "\n",
        "print(\"-----------------\")\n",
        "\n",
        "print((A*B)%C)\n",
        "print(((A%C)*(B%C))%C)\n",
        "if((A*B)%C == ((A%C) * (B%C))%C):\n",
        "  print(True)\n",
        "\n",
        "\n",
        "\n",
        "\n"
      ],
      "metadata": {
        "id": "G7czvSt8DpA1"
      },
      "execution_count": null,
      "outputs": []
    },
    {
      "cell_type": "markdown",
      "source": [
        "11. 세 자리수 끼리의 곱셈"
      ],
      "metadata": {
        "id": "xEpMnEZ0Fm84"
      }
    },
    {
      "cell_type": "code",
      "source": [
        "A = int(input())\n",
        "B = input()\n",
        "print(A*int(B[2]))\n",
        "print(A*int(B[1]))\n",
        "print(A*int(B[0]))\n",
        "print(A*int(B))"
      ],
      "metadata": {
        "id": "K623TdHGFrvS"
      },
      "execution_count": null,
      "outputs": []
    },
    {
      "cell_type": "markdown",
      "source": [
        "12. 고양이 출력하기\n",
        " \n",
        "*   문자열에서 ' 를 출력할 수 있는가?\n",
        "*   문자열에서 \\(역슬래시)를 출력할 수 있는가?\n",
        "\n",
        "\n",
        "\n",
        " \n",
        "\n",
        "\n",
        "\n"
      ],
      "metadata": {
        "id": "H851eTaJJ5D4"
      }
    },
    {
      "cell_type": "code",
      "source": [
        "print(\"\\\\    /\\\\\")\n",
        "print(\" )  ( ')\")\n",
        "print(\"(  /  )\")\n",
        "print(\" \\\\(__)|\")"
      ],
      "metadata": {
        "id": "zSgbBD0rJ43g"
      },
      "execution_count": null,
      "outputs": []
    },
    {
      "cell_type": "markdown",
      "source": [
        "13. 개 출력하기\n",
        " * 특수문자 출력시에는 앞에 \\( 역슬래시 ) 를 추가해준다."
      ],
      "metadata": {
        "id": "elw0hvwqJwpL"
      }
    },
    {
      "cell_type": "code",
      "source": [
        "print(\"|\\_/|\")\n",
        "print(\"|q p|   /}\")\n",
        "print(\"( 0 )\\\"\\\"\\\"\\\\\")\n",
        "print(\"|\\\"^\\\"`    |\")\n",
        "print(\"||_/=\\\\\\__|\")"
      ],
      "metadata": {
        "id": "R9lQXjv9Migg"
      },
      "execution_count": null,
      "outputs": []
    },
    {
      "cell_type": "markdown",
      "source": [
        "14. 새싹 출력하기"
      ],
      "metadata": {
        "id": "it5_w2QUOgDG"
      }
    },
    {
      "cell_type": "code",
      "source": [
        "print(\"         ,r'\\\"7\")\n",
        "print(\"r`-_   ,'  ,/\")\n",
        "print(\" \\\\. \\\". L_r'\")\n",
        "print(\"   `~\\/\")\n",
        "print(\"      |\")\n",
        "print(\"      |\")"
      ],
      "metadata": {
        "id": "AQVcyqFlOno2"
      },
      "execution_count": null,
      "outputs": []
    }
  ]
}